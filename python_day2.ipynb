{
 "cells": [
  {
   "cell_type": "code",
   "execution_count": 1,
   "id": "3fe6067d",
   "metadata": {},
   "outputs": [
    {
     "name": "stdout",
     "output_type": "stream",
     "text": [
      "('rama', 1, 1997)\n"
     ]
    }
   ],
   "source": [
    "tup1=('rama',1,1997)\n",
    "print(tup1)"
   ]
  },
  {
   "cell_type": "code",
   "execution_count": 3,
   "id": "84c92a1e",
   "metadata": {},
   "outputs": [
    {
     "name": "stdout",
     "output_type": "stream",
     "text": [
      "(3,)\n",
      "3\n"
     ]
    }
   ],
   "source": [
    "tup=(3,)\n",
    "print(tup)\n",
    "tup=(3)\n",
    "print(tup)\n"
   ]
  },
  {
   "cell_type": "code",
   "execution_count": 5,
   "id": "5067b728",
   "metadata": {},
   "outputs": [
    {
     "name": "stdout",
     "output_type": "stream",
     "text": [
      "<class 'int'>\n",
      "<class 'tuple'>\n"
     ]
    }
   ],
   "source": [
    "tup=(3)\n",
    "print(type(tup))\n",
    "tup=(3,)\n",
    "print(type(tup))"
   ]
  },
  {
   "cell_type": "code",
   "execution_count": 6,
   "id": "483eca04",
   "metadata": {},
   "outputs": [
    {
     "name": "stdout",
     "output_type": "stream",
     "text": [
      "()\n"
     ]
    }
   ],
   "source": [
    "tup=()\n",
    "print(tup)"
   ]
  },
  {
   "cell_type": "code",
   "execution_count": 7,
   "id": "d5db9393",
   "metadata": {},
   "outputs": [
    {
     "name": "stdout",
     "output_type": "stream",
     "text": [
      "(1, 2, 3, 4)\n"
     ]
    }
   ],
   "source": [
    "tup=tuple([1,2,3,4])\n",
    "print(tup)"
   ]
  },
  {
   "cell_type": "code",
   "execution_count": 18,
   "id": "5fc346e2",
   "metadata": {},
   "outputs": [
    {
     "name": "stdout",
     "output_type": "stream",
     "text": [
      "(1, 2, 3, 4, 5, 10)\n",
      "1\n"
     ]
    }
   ],
   "source": [
    "t=(1,2,3,4)\n",
    "t=t+(5,)\n",
    "t+=(10,)\n",
    "t+(11,)#will not add anything in the tuple\n",
    "print(t)\n",
    "print(t[0])"
   ]
  },
  {
   "cell_type": "code",
   "execution_count": 12,
   "id": "f5ad19ea",
   "metadata": {},
   "outputs": [
    {
     "name": "stdout",
     "output_type": "stream",
     "text": [
      "Enter the number of employees: 3\n",
      "Enter salary of employee 1: 4500\n",
      "Enter salary of employee 2: 5600\n",
      "Enter salary of employee 3: 6500\n",
      "\n",
      "Minimum salary: 4500.0\n",
      "Maximum salary: 6500.0\n"
     ]
    }
   ],
   "source": [
    "## Write a python program to input ‘n’ employee salaries and find the minimum and maximum salary amongst ‘n’ employees.\n",
    "n = int(input(\"Enter the number of employees: \"))\n",
    "salaries = []\n",
    "for i in range(n):\n",
    "    salary = float(input(f\"Enter salary of employee {i + 1}: \"))\n",
    "    salaries.append(salary)\n",
    "min_salary = min(salaries)\n",
    "max_salary = max(salaries)\n",
    "print(f\"\\nMinimum salary: {min_salary}\")\n",
    "print(f\"Maximum salary: {max_salary}\")"
   ]
  },
  {
   "cell_type": "code",
   "execution_count": 15,
   "id": "5b3ed071",
   "metadata": {},
   "outputs": [
    {
     "name": "stdout",
     "output_type": "stream",
     "text": [
      "Enter the number of employees: 2\n",
      "Enter salary of employee: 2\n",
      "Enter salary of employee: 100\n",
      "\n",
      "Minimum salary: 100\n",
      "Maximum salary: 2\n"
     ]
    }
   ],
   "source": [
    "n = int(input(\"Enter the number of employees: \"))\n",
    "salaries = []\n",
    "for i in range(n):\n",
    "    salary = input(f\"Enter salary of employee : \")\n",
    "    salaries.append(salary)\n",
    "min_salary = min(salaries)\n",
    "max_salary = max(salaries)\n",
    "print(f\"\\nMinimum salary: {min_salary}\")\n",
    "print(f\"Maximum salary: {max_salary}\")"
   ]
  },
  {
   "cell_type": "markdown",
   "id": "d64d24c3",
   "metadata": {},
   "source": [
    "tup=(1,2,3)*3\n"
   ]
  },
  {
   "cell_type": "code",
   "execution_count": 21,
   "id": "c38be73b",
   "metadata": {},
   "outputs": [
    {
     "name": "stdout",
     "output_type": "stream",
     "text": [
      "(1, 2, 3, 1, 2, 3, 1, 2, 3)\n",
      "('1,2,3', '1,2,3', '1,2,3')\n"
     ]
    }
   ],
   "source": [
    "tup=(1,2,3)*3\n",
    "print(tup)\n",
    "tup=('1,2,3',)*3\n",
    "print(tup)"
   ]
  },
  {
   "cell_type": "code",
   "execution_count": 26,
   "id": "aa955b97",
   "metadata": {},
   "outputs": [
    {
     "name": "stdout",
     "output_type": "stream",
     "text": [
      "7\n",
      "(1, 2, 2, 4, 5, 3, 7) (8, 9)\n",
      "7\n",
      "1\n",
      "(8, 9)\n"
     ]
    }
   ],
   "source": [
    "tup1=(1,2,2,4,5,3,7)\n",
    "seq=(8,9)\n",
    "print(len(tup1))#length of tuple\n",
    "print(tup1,tup2)\n",
    "print(max(tup1))#max\n",
    "print(min(tup1))#min\n",
    "print(tuple(seq))"
   ]
  },
  {
   "cell_type": "code",
   "execution_count": 27,
   "id": "9e371256",
   "metadata": {},
   "outputs": [
    {
     "name": "stdout",
     "output_type": "stream",
     "text": [
      "('PYTHON',)\n",
      "1\n",
      "4\n",
      "(10, 20, 30, 10, 20, 30)\n"
     ]
    }
   ],
   "source": [
    "t=tuple()\n",
    "t=t+('PYTHON',)\n",
    "print(t)\n",
    "print(len(t))\n",
    "t1=(10,20,30)\n",
    "t2=t1+t\n",
    "print(len(t2))\n",
    "t3=t1*2\n",
    "print(t3)"
   ]
  },
  {
   "cell_type": "code",
   "execution_count": 29,
   "id": "79b8d0bd",
   "metadata": {},
   "outputs": [
    {
     "name": "stdout",
     "output_type": "stream",
     "text": [
      "Enter the number of employees: 1\n",
      "\n",
      "Enter name of employee 1: raj\n",
      "Enter employee number of raj: 15\n",
      "\n",
      "Employee Name and Number:\n",
      "raj : 15\n"
     ]
    }
   ],
   "source": [
    "# Write a program to input ‘n’ employee numbers and names and store them in a dictionary. Display dictionaries employee’s names(key) and numbers(values) together.\n",
    "n = int(input(\"Enter the number of employees: \"))\n",
    "emp_dict = {}\n",
    "for i in range(n):\n",
    "    emp_name = input(f\"\\nEnter name of employee {i + 1}: \")\n",
    "    emp_number = input(f\"Enter employee number of {emp_name}: \")\n",
    "    emp_dict[emp_name] = emp_number\n",
    "print(\"\\nEmployee Name and Number:\")\n",
    "for emp_name, emp_number in emp_dict.items():\n",
    "    print(f\"{emp_name} : {emp_number}\")"
   ]
  },
  {
   "cell_type": "code",
   "execution_count": null,
   "id": "d9040212",
   "metadata": {},
   "outputs": [],
   "source": []
  }
 ],
 "metadata": {
  "kernelspec": {
   "display_name": "Python 3 (ipykernel)",
   "language": "python",
   "name": "python3"
  },
  "language_info": {
   "codemirror_mode": {
    "name": "ipython",
    "version": 3
   },
   "file_extension": ".py",
   "mimetype": "text/x-python",
   "name": "python",
   "nbconvert_exporter": "python",
   "pygments_lexer": "ipython3",
   "version": "3.10.11"
  }
 },
 "nbformat": 4,
 "nbformat_minor": 5
}
