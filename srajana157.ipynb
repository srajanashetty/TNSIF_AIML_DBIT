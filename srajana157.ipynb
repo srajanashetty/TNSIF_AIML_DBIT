{
 "cells": [
  {
   "cell_type": "code",
   "execution_count": 1,
   "id": "b4132de0",
   "metadata": {},
   "outputs": [
    {
     "name": "stdout",
     "output_type": "stream",
     "text": [
      "Enter your door number and street: #303 beml layout\n",
      "Numbers in the address: 303\n"
     ]
    }
   ],
   "source": [
    "address = input(\"Enter your door number and street: \")\n",
    "numbers_only = \"\"\n",
    "for char in address:\n",
    "    if char.isdigit():\n",
    "        numbers_only += char\n",
    "\n",
    "print(\"Numbers in the address:\", numbers_only)"
   ]
  },
  {
   "cell_type": "code",
   "execution_count": null,
   "id": "90c00e6e",
   "metadata": {},
   "outputs": [],
   "source": []
  },
  {
   "cell_type": "code",
   "execution_count": 2,
   "id": "cb0686f2",
   "metadata": {},
   "outputs": [
    {
     "name": "stdout",
     "output_type": "stream",
     "text": [
      "Enter your door number and street: #303 beml layout\n",
      "Numbers in the address: 303"
     ]
    }
   ],
   "source": [
    "address = input(\"Enter your door number and street: \")#f\"Enter element {i+1}: \n",
    "print(\"Numbers in the address:\", end=\" \")\n",
    "for char in address:\n",
    "    if char.isdigit():\n",
    "        print(char, end=\"\")"
   ]
  },
  {
   "cell_type": "code",
   "execution_count": 4,
   "id": "ec526ba7",
   "metadata": {},
   "outputs": [
    {
     "name": "stdout",
     "output_type": "stream",
     "text": [
      "Enter element:ba\n",
      "Enter element:sa\n",
      "Enter element:ca\n",
      "Enter element:ta\n",
      "Enter element:ha\n",
      "Enter your name: sr\n",
      "Updated list: ['ba', 'sa', 'sr', 'ta', 'sr']\n"
     ]
    }
   ],
   "source": [
    "list1 = []\n",
    "for i in range(5):\n",
    "    element = input(\"Enter element:\")\n",
    "    list1.append(element)\n",
    "name = input(\"Enter your name: \"\n",
    "list1[2] = name\n",
    "list1[4] = name\n",
    "print(\"list:\", list1)"
   ]
  },
  {
   "cell_type": "code",
   "execution_count": null,
   "id": "db29160f",
   "metadata": {},
   "outputs": [],
   "source": [
    "user_input = input(\"Enter list elements separated by commas: \")\n",
    "user_list = user_input.split(\",\")  \n",
    "\n",
    "\n",
    "index = int(input(\"Enter the index to insert at: \"))\n",
    "new_element = input(\"Enter the new element: \")\n",
    "\n",
    "\n",
    "if 0 <= index <= len(user_list):\n",
    "    user_list.insert(index, new_element)\n",
    "    print(f\"Inserted '{new_element}' at index {index}.\")\n",
    "else:\n",
    "    user_list.append(new_element)\n",
    "    print(f\"Index invalid. Appended '{new_element}' at the end.\")\n",
    "\n",
    "\n",
    "print(\"Updated list:\", user_list)"
   ]
  },
  {
   "cell_type": "code",
   "execution_count": null,
   "id": "b8cc7a71",
   "metadata": {},
   "outputs": [],
   "source": [
    "\n",
    " \n"
   ]
  },
  {
   "cell_type": "code",
   "execution_count": null,
   "id": "c9d1f553",
   "metadata": {},
   "outputs": [],
   "source": [
    "def insert_element_into_list():\n",
    "\n",
    "    while True:\n",
    "        list_input = input(\"Enter a list of elements (e.g., 1,2,3 or apple,banana,cherry): \")\n",
    "        if list_input.strip(): \n",
    "            user_list = [item.strip() for item in list_input.split(',')]\n",
    "            break\n",
    "        else:\n",
    "            print(\"List cannot be empty. Please enter some elements.\")\n",
    "\n",
    "    print(f\"Original list: {user_list}\")\n",
    "\n",
    "    while True:\n",
    "        try:\n",
    "            index_input = int(input(\"Enter the index where you want to insert the new element: \"))\n",
    "            break\n",
    "        except ValueError:\n",
    "            print(\"Invalid input. Please enter an integer for the index.\")\n",
    "\n",
    "   \n",
    "    element_to_insert = input(\"Enter the element you want to insert: \")\n",
    "    if 0 <= index_input <= len(user_list):\n",
    "\n",
    "        user_list.insert(index_input, element_to_insert)\n",
    "        print(f\"\\nElement '{element_to_insert}' inserted at index {index_input}.\")\n",
    "    else:\n",
    "       \n",
    "        user_list.append(element_to_insert)\n",
    "        print(f\"\\nInvalid index '{index_input}' provided. The element '{element_to_insert}' will be appended to the list.\")\n",
    "\n",
    "    print(f\"Modified list: {user_list}\")\n",
    "\n",
    "\n",
    "insert_element_into_list()\n"
   ]
  },
  {
   "cell_type": "code",
   "execution_count": 1,
   "id": "25cdec80",
   "metadata": {},
   "outputs": [
    {
     "name": "stdout",
     "output_type": "stream",
     "text": [
      "{'Harry': 9764537343, 'Seema': 987655464, 'ria': 746546457, 'thomas': 745635465}\n",
      "{'Harry': 9764537343, 'Seema': 987655464, 'ria': 746546457, 'thomas': 745635465, 'radhika': 8775475657}\n",
      "{'Harry': 9764537343, 'Seema': 987655464, 'ria': 746546457, 'thomas': 745635465, 'radhika': 8775475657, 'amir': 65447645}\n"
     ]
    }
   ],
   "source": [
    "phonebook={\"Harry\":9764537343,\"Seema\":987655464,\"ria\":746546457,\"thomas\":745635465}\n",
    "print(phonebook)\n",
    "phonebook[\"radhika\"]=8775475657\n",
    "print(phonebook)\n",
    "phonebook.update({\"amir\":65447645})\n",
    "print(phonebook)"
   ]
  },
  {
   "cell_type": "code",
   "execution_count": 3,
   "id": "2dd1ccad",
   "metadata": {},
   "outputs": [
    {
     "name": "stdout",
     "output_type": "stream",
     "text": [
      "{'Harry': 9764537343, 'Seema': 987655464, 'ria': 746546457, 'thomas': 745635465}\n",
      "enter the name to delete:Seema\n",
      "deleted successfully\n",
      "{'Harry': 9764537343, 'ria': 746546457, 'thomas': 745635465}\n"
     ]
    }
   ],
   "source": [
    "phonebook={\"Harry\":9764537343,\"Seema\":987655464,\"ria\":746546457,\"thomas\":745635465}\n",
    "print(phonebook)\n",
    "name=input(\"enter the name to delete:\")\n",
    "if name in phonebook:\n",
    "    del phonebook[name]\n",
    "    print(\"deleted successfully\")\n",
    "    print(phonebook)\n",
    "else:\n",
    "    print(name,\"was not found\")"
   ]
  },
  {
   "cell_type": "code",
   "execution_count": 6,
   "id": "43ec58b5",
   "metadata": {},
   "outputs": [
    {
     "name": "stdout",
     "output_type": "stream",
     "text": [
      "{}\n",
      "dict_keys(['Harry', 'Seema', 'ria', 'thomas'])\n"
     ]
    }
   ],
   "source": [
    "phonebook={\"Harry\":9764537343,\"Seema\":987655464,\"ria\":746546457,\"thomas\":745635465}\n",
    "phonebook.clear()\n",
    "print(phonebook)\n",
    "phonebook={\"Harry\":9764537343,\"Seema\":987655464,\"ria\":746546457,\"thomas\":745635465}\n",
    "print(phonebook.keys())\n"
   ]
  },
  {
   "cell_type": "code",
   "execution_count": null,
   "id": "4a5887cd",
   "metadata": {},
   "outputs": [],
   "source": []
  }
 ],
 "metadata": {
  "kernelspec": {
   "display_name": "Python 3 (ipykernel)",
   "language": "python",
   "name": "python3"
  },
  "language_info": {
   "codemirror_mode": {
    "name": "ipython",
    "version": 3
   },
   "file_extension": ".py",
   "mimetype": "text/x-python",
   "name": "python",
   "nbconvert_exporter": "python",
   "pygments_lexer": "ipython3",
   "version": "3.10.11"
  }
 },
 "nbformat": 4,
 "nbformat_minor": 5
}
